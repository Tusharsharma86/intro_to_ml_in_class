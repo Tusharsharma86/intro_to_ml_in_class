{
 "cells": [
  {
   "cell_type": "markdown",
   "metadata": {
    "collapsed": true,
    "slideshow": {
     "slide_type": "slide"
    }
   },
   "source": [
    "# Introduction to Machine Learning"
   ]
  },
  {
   "cell_type": "code",
   "execution_count": 1,
   "metadata": {
    "slideshow": {
     "slide_type": "slide"
    }
   },
   "outputs": [
    {
     "data": {
      "text/html": [
       "<iframe width=\"800\" height=\"450\" src=\"https://www.youtube.com/embed/f_uwKZIAeM0\" frameborder=\"0\" allowfullscreen></iframe>"
      ],
      "text/plain": [
       "<IPython.core.display.HTML object>"
      ]
     },
     "execution_count": 1,
     "metadata": {},
     "output_type": "execute_result"
    }
   ],
   "source": [
    "from IPython.display import HTML\n",
    "\n",
    "HTML('<iframe width=\"800\" height=\"450\" src=\"https://www.youtube.com/embed/f_uwKZIAeM0\" frameborder=\"0\" allowfullscreen></iframe>')"
   ]
  },
  {
   "cell_type": "markdown",
   "metadata": {
    "slideshow": {
     "slide_type": "slide"
    }
   },
   "source": [
    "# What we did so thus far (1 of 1) \n",
    "***\n",
    "* Introduction to Python - You are now a buddying pythonista\n",
    "* You can do street fighting with Python - Load files, read data & make some sense out of it"
   ]
  },
  {
   "cell_type": "markdown",
   "metadata": {
    "slideshow": {
     "slide_type": "slide"
    }
   },
   "source": [
    "# Introduction to Machine Learning"
   ]
  },
  {
   "cell_type": "markdown",
   "metadata": {
    "slideshow": {
     "slide_type": "subslide"
    }
   },
   "source": [
    "# Agenda for the Day\n",
    "***\n",
    "* Understand what machine learning is, and how it fits in with Data Science\n",
    "* Understand various types of machine learning, particularly supervised and unsupervised machine learning and their applications\n",
    "* Understand the machine learning process and the various stages in it from a 30-thousand feet perspective"
   ]
  },
  {
   "cell_type": "markdown",
   "metadata": {
    "slideshow": {
     "slide_type": "slide"
    }
   },
   "source": [
    "<img src=\"../images/Concept-Alert.png\" alt=\"Concept-Alert\" style=\"width: 100px;float:left; margin-right:15px\"/>\n",
    "<br />\n",
    "## What is Machine Learning? \n",
    "***\n",
    " - Before diving into definitions, let's start with an example to build further intuition\n",
    " \n",
    " - Have a look at the small data set below:\n",
    "     \n",
    "<img src=\"../images/intro_ml_img1.png\" alt=\"toy data\" style=\"width: 225px;\"/>\n"
   ]
  },
  {
   "cell_type": "markdown",
   "metadata": {
    "slideshow": {
     "slide_type": "slide"
    }
   },
   "source": [
    "<img src=\"../images/Concept-Alert.png\" alt=\"Concept-Alert\" style=\"width: 100px;float:left; margin-right:15px\"/>\n",
    "<br />\n",
    "## What is Machine Learning? \n",
    "***\n",
    " - Now, the data set you see are observations which are labeled by humans! \n",
    " \n",
    "![toy image](../images/intro_ml_img2.png)\n",
    "\n",
    "\n",
    " - Let's determine what the task of the computer is! "
   ]
  },
  {
   "cell_type": "markdown",
   "metadata": {
    "slideshow": {
     "slide_type": "slide"
    }
   },
   "source": [
    "<img src=\"../images/Concept-Alert.png\" alt=\"Concept-Alert\" style=\"width: 100px;float:left; margin-right:15px\"/>\n",
    "<br />\n",
    "## What is Machine Learning?\n",
    "***\n",
    " - Task for the computer = Label Unseen Square! \n",
    " - The Unseen Square can be big or small or medium\n",
    " - It can be dotted, striped or normal. The example below shoes a medium sized striped square\n",
    " \n",
    "![toy image2](../images/intro_ml_img3.png)"
   ]
  },
  {
   "cell_type": "markdown",
   "metadata": {
    "slideshow": {
     "slide_type": "slide"
    }
   },
   "source": [
    "<img src=\"../images/Concept-Alert.png\" alt=\"Concept-Alert\" style=\"width: 100px;float:left; margin-right:15px\"/>\n",
    "<br />\n",
    "## What is Machine Learning?\n",
    "***\n",
    " - So in our example, the goal of the Computer is to predict the Color of this square - ***Green*** or ***Yellow***\n",
    " \n",
    " - The computer \"learns\" from the inputted data and then uses a prediction model to make predictions! \n",
    " \n",
    ">\"Machine learning is the science of getting computers to act without being explicitly programmed.\" - Arthur Samuel\n"
   ]
  },
  {
   "cell_type": "markdown",
   "metadata": {
    "slideshow": {
     "slide_type": "slide"
    }
   },
   "source": [
    "<img src=\"../images/Concept-Alert.png\" alt=\"Concept-Alert\" style=\"width: 100px;float:left; margin-right:15px\"/>\n",
    "<br />\n",
    "## What Machine Learning is NOT\n",
    "***\n",
    "These Problems or Questions are not Machine Learning examples: \n",
    "\n",
    " - Determining most occurring color\n",
    " - Calculating Average Size\n",
    " \n",
    "Our goal: **Build models for Predictions**"
   ]
  },
  {
   "cell_type": "markdown",
   "metadata": {
    "slideshow": {
     "slide_type": "subslide"
    }
   },
   "source": [
    "# An incomplete history of machine learning (1 of 3)\n",
    "***\n",
    "* **<1950s**: Statistical methods are discovered and refined.\n",
    "* **1950s**: Pioneering machine learning research is conducted using simple algorithms.\n",
    "* **1960s**: Bayesian methods are introduced for probabilistic inference in machine learning.\n",
    "* **1970s**: AI Winter caused by pessimism about machine learning effectiveness."
   ]
  },
  {
   "cell_type": "markdown",
   "metadata": {
    "slideshow": {
     "slide_type": "subslide"
    }
   },
   "source": [
    "# An incomplete history of machine learning (2 of 3)\n",
    "***\n",
    "* **1980s**: Rediscovery of backpropagation causes a resurgence in machine learning research.\n",
    "* **1990s**: Work on machine learning shifts from a knowledge-driven approach to a data-driven approach. Scientists begin creating programs for computers to analyze large amounts of data and draw conclusions — or “learn” — from the results. Support vector machines and recurrent neural networks become popular."
   ]
  },
  {
   "cell_type": "markdown",
   "metadata": {
    "slideshow": {
     "slide_type": "subslide"
    }
   },
   "source": [
    "# An incomplete history of machine learning (3 of 3)\n",
    "***\n",
    "* **2000s**: Kernel methods grow in popularity, and competitive machine learning becomes more widespread.\n",
    "* **2010s**: Deep learning becomes feasible, which leads to machine learning becoming integral to many widely used software services and applications.\n"
   ]
  },
  {
   "cell_type": "markdown",
   "metadata": {
    "slideshow": {
     "slide_type": "subslide"
    }
   },
   "source": [
    "## Some Examples\n",
    "***\n",
    " - Shopping Basket Analysis\n",
    " - Movie Recommendation Systems\n",
    " - Decision Making for Self-Driving Cars\n",
    " "
   ]
  },
  {
   "cell_type": "markdown",
   "metadata": {
    "slideshow": {
     "slide_type": "slide"
    }
   },
   "source": [
    "## In-Class Activity\n",
    "***\n",
    "Which of the following statements uses a Machine Learning Model?\n",
    "\n",
    "  1. Determine whether an incoming email is spam or not\n",
    "  * Obtain the name of team that won the last T20 World Cup \n",
    "  * Automatically tagging your new Facebook photos\n",
    "  *  Select the student with the highest grade on a Creative Writing course\n",
    "  "
   ]
  },
  {
   "cell_type": "markdown",
   "metadata": {
    "slideshow": {
     "slide_type": "subslide"
    }
   },
   "source": [
    " Answer: 1 and 3"
   ]
  },
  {
   "cell_type": "markdown",
   "metadata": {
    "slideshow": {
     "slide_type": "slide"
    }
   },
   "source": [
    "## In-Class Activity \n",
    "***\n",
    "Which of these is **NOT** a Machine Learning problem?\n",
    "\n",
    " 1. Given a viewer's shopping habits, recommend a product to purchase the next time she visits your website.\n",
    " *  Given the symptoms of a patient, identify her illness\n",
    " *  Predict the USD/EUR exchange rate for February 2016\n",
    " *  Compute the mean wage of 10 employees for your company"
   ]
  },
  {
   "cell_type": "markdown",
   "metadata": {
    "slideshow": {
     "slide_type": "subslide"
    }
   },
   "source": [
    "Answer: 4 "
   ]
  },
  {
   "cell_type": "markdown",
   "metadata": {
    "slideshow": {
     "slide_type": "slide"
    }
   },
   "source": [
    "<img src=\"../images/Concept-Alert.png\" alt=\"Concept-Alert\" style=\"width: 100px;float:left; margin-right:15px\"/>\n",
    "<br />\n",
    "## Types of Machine Learning\n",
    "***\n",
    " - Supervised Learning \n",
    "\n",
    " - Unsupervised Learning \n",
    " \n",
    " - Semi-Supervised Learning \n",
    " \n",
    " - Reinforcement Learning"
   ]
  },
  {
   "cell_type": "markdown",
   "metadata": {
    "slideshow": {
     "slide_type": "slide"
    }
   },
   "source": [
    "<img src=\"../images/Concept-Alert.png\" alt=\"Concept-Alert\" style=\"width: 100px;float:left; margin-right:15px\"/>\n",
    "<br />\n",
    "## Supervised Learning\n",
    "***\n",
    "Supervised learning is the machine learning task of inferring a function and generating predictions from labeled training data\n",
    "\n",
    "Look at the image below, what can you say about the data by just looking at it? \n",
    "\n",
    "\n",
    "<img src=\"../images/intro_ml_img4 - Copy.png\" alt=\"toy_image4\" style=\"width: 300px;\"/>"
   ]
  },
  {
   "cell_type": "markdown",
   "metadata": {
    "slideshow": {
     "slide_type": "slide"
    }
   },
   "source": [
    "<img src=\"../images/Concept-Alert.png\" alt=\"Concept-Alert\" style=\"width: 100px;float:left; margin-right:15px\"/>\n",
    "<br />\n",
    "## Supervised Learning\n",
    "***\n",
    "We get to know that: \n",
    "\n",
    " - Higher X1 and X2 values are given the label \"**X**\"\n",
    " \n",
    " - Lower X1 and X2 values are given the label \"**O**\"\n",
    " \n",
    "\n",
    "Given a new data point \"Z\" with some X1 & X2 values - What label should it get? \n",
    "\n",
    " - *This is an example of Supervised Learning where the Computer learns from previous data and then labels our new data point Z as an \"X\" or \"O\"*"
   ]
  },
  {
   "cell_type": "markdown",
   "metadata": {
    "slideshow": {
     "slide_type": "subslide"
    }
   },
   "source": [
    "<img src=\"../images/Concept-Alert.png\" alt=\"Concept-Alert\" style=\"width: 100px;float:left; margin-right:15px\"/>\n",
    "<br />\n",
    "## Unsupervised Learning\n",
    "***\n",
    "Unsupervised machine learning is the machine learning task of inferring a function to describe hidden structure from \"unlabeled\" data (a classification or categorization is not included in the observations)\n",
    "\n",
    " - Unsupervised learning is where you only have input data (X) and no corresponding output variables\n",
    " \n",
    " - The goal for unsupervised learning is to model the underlying structure or distribution in the data in order to learn more about the data\n"
   ]
  },
  {
   "cell_type": "markdown",
   "metadata": {
    "slideshow": {
     "slide_type": "subslide"
    }
   },
   "source": [
    "<img src=\"../images/Concept-Alert.png\" alt=\"Concept-Alert\" style=\"width: 100px;float:left; margin-right:15px\"/>\n",
    "<br />\n",
    "## Unsupervised Learning\n",
    "***\n",
    "The image below (similar to the previous image) shows a data set where we don't really know the labels of the data \n",
    "\n",
    " - They're just values of X1 and X2 plotted and the goal of the computer is to find the underlying structure\n",
    " \n",
    " \n",
    "<img src=\"../images/intro_ml_img5.png\" alt=\"toy_image4\" style=\"width: 300px;\"/>\n"
   ]
  },
  {
   "cell_type": "markdown",
   "metadata": {
    "slideshow": {
     "slide_type": "subslide"
    }
   },
   "source": [
    "So, basically, as a result of executing the Unsupervised Learning technique, we end up labeling the *already known* input values. \n",
    "\n",
    "Intuitively, we end up with a data set which when plotted looks like the plot of Supervised Learning with the \"**X**\" & \"**O**\""
   ]
  },
  {
   "cell_type": "markdown",
   "metadata": {
    "slideshow": {
     "slide_type": "subslide"
    }
   },
   "source": [
    "<img src=\"../images/Concept-Alert.png\" alt=\"Concept-Alert\" style=\"width: 100px;float:left; margin-right:15px\"/>\n",
    "<br />\n",
    "## Semi-Supervised Learning \n",
    "***\n",
    " - A mix of Supervised and Unsupervised Learning\n",
    " \n",
    " - Below, we see that in our Raw data - there is some labeled data i.e. Observations colored Red, Blue, Orange, etc. \n",
    " \n",
    "<img src=\"../images/intro_ml_img6.jpg\" alt=\"toy_image5\" style=\"width: 650px;\"/>"
   ]
  },
  {
   "cell_type": "markdown",
   "metadata": {
    "slideshow": {
     "slide_type": "slide"
    }
   },
   "source": [
    "<img src=\"../images/Concept-Alert.png\" alt=\"Concept-Alert\" style=\"width: 100px;float:left; margin-right:15px\"/>\n",
    "<br />\n",
    "## Semi - Supervised Learning\n",
    "***\n",
    "\n",
    " \n",
    " - And there are unlabeled observations i.e. the Observations in Black & White\n",
    " \n",
    " - We use a mix of Unlabeled & Labeled Data to train our model"
   ]
  },
  {
   "cell_type": "markdown",
   "metadata": {
    "slideshow": {
     "slide_type": "slide"
    }
   },
   "source": [
    "## Reinforcement Learning (1/2)\n",
    "***\n",
    " - Used to solve interacting problems where the data observed up to time \"**t**\" is considered to *decide which action to take at time* \"**t+1**\"\n",
    " \n",
    " - Also used for A.I. when training machines to perform tasks such as Walking, etc. \n",
    " "
   ]
  },
  {
   "cell_type": "markdown",
   "metadata": {
    "slideshow": {
     "slide_type": "slide"
    }
   },
   "source": [
    "## Reinforcement Learning (2/2)\n",
    "***\n",
    "- Desired outcomes provide the AI with a **\"Reward**\" and undesired outcomes provide a \"**Punishment**\" \n",
    " \n",
    " - In the video below we see an Autonomous Spider Robot learns to Walk through this technique\n",
    " \n",
    " - After each move, it analyzes and checks whether it moved further or not, thus **Rewarding** if yes and **Punishing** if not"
   ]
  },
  {
   "cell_type": "code",
   "execution_count": 2,
   "metadata": {
    "slideshow": {
     "slide_type": "slide"
    }
   },
   "outputs": [
    {
     "data": {
      "text/html": [
       "<iframe width=\"560\" height=\"315\" src=\"https://www.youtube.com/embed/RZf8fR1SmNY\" frameborder=\"0\" allowfullscreen></iframe>"
      ],
      "text/plain": [
       "<IPython.core.display.HTML object>"
      ]
     },
     "execution_count": 2,
     "metadata": {},
     "output_type": "execute_result"
    }
   ],
   "source": [
    "## Reinforcement Learning\n",
    "\n",
    "from IPython.display import HTML\n",
    "HTML('<iframe width=\"560\" height=\"315\" src=\"https://www.youtube.com/embed/RZf8fR1SmNY\" frameborder=\"0\" allowfullscreen></iframe>')"
   ]
  },
  {
   "cell_type": "markdown",
   "metadata": {
    "slideshow": {
     "slide_type": "slide"
    }
   },
   "source": [
    "## Common Machine Learning Problems\n",
    "***\n",
    "\n",
    " - Classification\n",
    " \n",
    " - Regression \n",
    " \n",
    " - Clustering"
   ]
  },
  {
   "cell_type": "markdown",
   "metadata": {
    "slideshow": {
     "slide_type": "slide"
    }
   },
   "source": [
    "<img src=\"../images/Concept-Alert.png\" alt=\"Concept-Alert\" style=\"width: 100px;float:left; margin-right:15px\"/>\n",
    "<br />\n",
    "## Classification\n",
    "***\n",
    "Goal: To predict Category of new Observation\n",
    "\n",
    " - Supervised Learning technique\n",
    "\n",
    "The image below depicts a general flow-chart on how one goes about Classification Problems\n",
    "\n",
    "<img src=\"../images/intro_ml_img7.png\" alt=\"toy_image5\" style=\"width: 400px;\"/>"
   ]
  },
  {
   "cell_type": "markdown",
   "metadata": {
    "slideshow": {
     "slide_type": "slide"
    }
   },
   "source": [
    "## Examples of Classification Tasks\n",
    "***\n",
    " - Predicting Survival of a Titanic Passenger: (Survived, Not Survived)\n",
    " - Categorizing a flower specimen into given species\n",
    " - Spam Filter (Spam, Not Spam)\n",
    " - Predicting whether a patient has cancer or not\n",
    " - Predicting whether the value of a stock will rise or drop\n",
    " \n",
    " - Animal Recognition: Dog, Cat or Horse\n",
    "\n",
    "\n",
    "**Important: **\n",
    " - Qualitative Output\n",
    " - **Predefined Classes**\n"
   ]
  },
  {
   "cell_type": "markdown",
   "metadata": {
    "slideshow": {
     "slide_type": "slide"
    }
   },
   "source": [
    "<img src=\"../images/Concept-Alert.png\" alt=\"Concept-Alert\" style=\"width: 100px;float:left; margin-right:15px\"/>\n",
    "<br />\n",
    "## Regression (1/3)\n",
    "***\n",
    " - Supervised Learning technique\n",
    " \n",
    " - In Regression, we estimate or predict a numeric response (as opposed to Categorical in Classification) \n",
    "\n",
    "<img src=\"../images/intro_ml_img8.png\" alt=\"toy_image5\" style=\"width: 500px;\"/>"
   ]
  },
  {
   "cell_type": "markdown",
   "metadata": {
    "slideshow": {
     "slide_type": "slide"
    }
   },
   "source": [
    "<img src=\"../images/Concept-Alert.png\" alt=\"Concept-Alert\" style=\"width: 100px;float:left; margin-right:15px\"/>\n",
    "<br />\n",
    "## Regression (2/3)\n",
    "***\n",
    " - In the example above, goal: Predict the weight of a person *given* his/her **height**\n",
    "\n",
    "Similar Examples: \n",
    "\n",
    " - Predicting rainfall in a particular season\n",
    " - Predicting sales of a company for a given year\n",
    " - Predicting runs/goals scored by a sports team\n",
    " - Assigning credit rating\n",
    " - Grades ---> Landing a Job "
   ]
  },
  {
   "cell_type": "markdown",
   "metadata": {
    "slideshow": {
     "slide_type": "slide"
    }
   },
   "source": [
    "<img src=\"../images/Concept-Alert.png\" alt=\"Concept-Alert\" style=\"width: 100px;float:left; margin-right:15px\"/>\n",
    "<br />\n",
    "## Regression (3/3)\n",
    "***\n",
    "**Important:**\n",
    "\n",
    "- Quantitative Output \n",
    "- Previous input-output observations"
   ]
  },
  {
   "cell_type": "markdown",
   "metadata": {
    "slideshow": {
     "slide_type": "subslide"
    }
   },
   "source": [
    "<img src=\"../images/Concept-Alert.png\" alt=\"Concept-Alert\" style=\"width: 100px;float:left; margin-right:15px\"/>\n",
    "<br />\n",
    "## Clustering \n",
    "***\n",
    " - Unsupervised Learning Technique\n",
    " - Grouping objects in clusters \n",
    "    - Similar Within Clusters \n",
    "    - Dissimilar between clusters\n",
    "    \n"
   ]
  },
  {
   "cell_type": "markdown",
   "metadata": {
    "slideshow": {
     "slide_type": "slide"
    }
   },
   "source": [
    "<img src=\"../images/Concept-Alert.png\" alt=\"Concept-Alert\" style=\"width: 100px;float:left; margin-right:15px\"/>\n",
    "<br />\n",
    "## Clustering (1/2)\n",
    "***\n",
    "Here we are clustering objects in k = **3 Clusters**\n",
    "\n",
    "<img src=\"../images/intro_ml_img9.png\" alt=\"toy_image6\" style=\"width: 350px;\"/>"
   ]
  },
  {
   "cell_type": "markdown",
   "metadata": {
    "slideshow": {
     "slide_type": "subslide"
    }
   },
   "source": [
    "<img src=\"../images/Concept-Alert.png\" alt=\"Concept-Alert\" style=\"width: 100px;float:left; margin-right:15px\"/>\n",
    "<br />\n",
    "## Clustering (2/2)\n",
    "***\n",
    "For example: \n",
    "\n",
    " - Segmenting customers into various groups\n",
    " - Online shopping recommender system: Grouping things that are bought together\n",
    " - Grouping Similar Animal Photos"
   ]
  },
  {
   "cell_type": "markdown",
   "metadata": {
    "slideshow": {
     "slide_type": "slide"
    }
   },
   "source": [
    "## In-class Activity - Testing our Understanding of Common ML Problems\n",
    "***\n",
    "In the very first example where we needed to predict the color given Square (Medium and striped), what type of ML problem was it? \n",
    "\n",
    "1) Regression \n",
    "\n",
    "2) Classification\n",
    "\n",
    "3) Clustering"
   ]
  },
  {
   "cell_type": "markdown",
   "metadata": {
    "slideshow": {
     "slide_type": "subslide"
    }
   },
   "source": [
    "Answer: 2"
   ]
  },
  {
   "cell_type": "markdown",
   "metadata": {
    "slideshow": {
     "slide_type": "slide"
    }
   },
   "source": [
    "## In-class Activity - Testing our Understanding of Common ML Problems\n",
    "***\n",
    "Which of the following questions can be answered using a classification algorithm?\n",
    "\n",
    " 1) How does the exchange rate depend on the GDP?\n",
    " \n",
    " 2) Does a document contain the handwritten letter S?\n",
    " \n",
    " 3) How can I group supermarket products using purchase frequency?"
   ]
  },
  {
   "cell_type": "markdown",
   "metadata": {
    "slideshow": {
     "slide_type": "subslide"
    }
   },
   "source": [
    "Answer: 2"
   ]
  },
  {
   "cell_type": "markdown",
   "metadata": {
    "slideshow": {
     "slide_type": "slide"
    }
   },
   "source": [
    "<img src=\"../images/Recap.png\" alt=\"Recap\" style=\"width: 100px;float:left; margin-right:15px\"/>\n",
    "<br />\n",
    "# In-session Recap Time\n",
    "***\n",
    "* What is Machine Learing and What Machine Learning is Not\n",
    "* Types of machine learning\n",
    "    * supervised, unsupervised and semi-supervised machine learning and their applications\n",
    "* Common Machine Learning Problems\n",
    "    * Classification\n",
    "    * Regression\n",
    "    * Clustering"
   ]
  },
  {
   "cell_type": "markdown",
   "metadata": {
    "slideshow": {
     "slide_type": "slide"
    }
   },
   "source": [
    "# Post Reads\n",
    "***\n",
    "* [A Visual Introduction to Machine Learning](http://www.r2d3.us/visual-intro-to-machine-learning-part-1/)\n",
    "* [10 Algorithms every Machine Learning Engineer should know about](http://www.kdnuggets.com/2016/08/10-algorithms-machine-learning-engineers.html)\n",
    "* [CRISP-DM and why should you know about it](https://www.r-bloggers.com/crisp-dm-and-why-you-should-know-about-it/)"
   ]
  },
  {
   "cell_type": "markdown",
   "metadata": {
    "slideshow": {
     "slide_type": "slide"
    }
   },
   "source": [
    "# Thank You\n",
    "***\n",
    "### Next Session: Descriptive Statistics\n",
    "For more queries - Reach out to academics@greyatom.com "
   ]
  }
 ],
 "metadata": {
  "anaconda-cloud": {},
  "celltoolbar": "Slideshow",
  "kernelspec": {
   "display_name": "Python 3",
   "language": "python",
   "name": "python3"
  },
  "language_info": {
   "codemirror_mode": {
    "name": "ipython",
    "version": 3
   },
   "file_extension": ".py",
   "mimetype": "text/x-python",
   "name": "python",
   "nbconvert_exporter": "python",
   "pygments_lexer": "ipython3",
   "version": "3.6.1"
  },
  "widgets": {
   "state": {},
   "version": "1.1.2"
  }
 },
 "nbformat": 4,
 "nbformat_minor": 1
}
